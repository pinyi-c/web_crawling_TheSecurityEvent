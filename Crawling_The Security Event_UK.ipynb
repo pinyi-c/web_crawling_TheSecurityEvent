{
 "cells": [
  {
   "cell_type": "code",
   "execution_count": null,
   "id": "563997c2-8d1e-4a31-aef2-8e7d2a133105",
   "metadata": {
    "tags": []
   },
   "outputs": [],
   "source": [
    "import requests\n",
    "from bs4 import BeautifulSoup\n",
    "import csv\n",
    "import urllib.parse\n",
    "\n",
    "base_url = 'https://www.thesecurityevent.co.uk/'\n",
    "\n",
    "url = base_url + 'exhibitor-list?&sortby=Community_Featured%20desc%2Ctitle%20asc&categories=0A4FB57-1CA8-4D17-809A-4EF50F2AFFFE&categories=2EE5288-2CA7-4B41-82DA-3124A0AEA9F8&searchgroup=091BE406-exhibitors'\n",
    "\n",
    "response = requests.get(url)\n",
    "\n",
    "soup = BeautifulSoup(response.content, 'html.parser')\n",
    "\n",
    "exhibitor_items = soup.find_all('li', class_='m-exhibitors-list__items__item')\n",
    "\n",
    "with open('exhibitors.csv', mode='w', newline='', encoding='utf-8') as file:\n",
    "    writer = csv.writer(file)\n",
    "    writer.writerow(['Exhibitor', 'Stand', 'Address'])\n",
    "\n",
    "    for exhibitor in exhibitor_items:\n",
    "        exhibitor_name = exhibitor.find('h2', class_='m-exhibitors-list__items__item__header__title').text.strip()\n",
    "        stand_info = exhibitor.find('div', class_='m-exhibitors-list__items__item__header__meta__stand').text.strip()\n",
    "        stand = stand_info.split(':')[-1].strip()\n",
    "        \n",
    "        exhibitor_relative_url = exhibitor.find('a', class_='m-exhibitors-list__items__item__header__title__link')['href']\n",
    "        \n",
    "        exhibitor_absolute_url = urllib.parse.urljoin(base_url, exhibitor_relative_url)\n",
    "        \n",
    "        exhibitor_response = requests.get(exhibitor_absolute_url)\n",
    "        exhibitor_soup = BeautifulSoup(exhibitor_response.content, 'html.parser')\n",
    "        \n",
    "        address_elem = exhibitor_soup.find('div', class_='m-exhibitor-entry__item__body__contacts__address')\n",
    "        if address_elem:\n",
    "            address = address_elem.get_text(separator='\\n').strip()\n",
    "        else:\n",
    "            address = 'Address not found'\n",
    "        \n",
    "        writer.writerow([exhibitor_name, stand, address])\n"
   ]
  },
  {
   "cell_type": "code",
   "execution_count": null,
   "id": "af8a21ea-1341-415b-b85b-8881a2746f84",
   "metadata": {},
   "outputs": [],
   "source": []
  }
 ],
 "metadata": {
  "kernelspec": {
   "display_name": "Python 3 (ipykernel)",
   "language": "python",
   "name": "python3"
  },
  "language_info": {
   "codemirror_mode": {
    "name": "ipython",
    "version": 3
   },
   "file_extension": ".py",
   "mimetype": "text/x-python",
   "name": "python",
   "nbconvert_exporter": "python",
   "pygments_lexer": "ipython3",
   "version": "3.11.5"
  }
 },
 "nbformat": 4,
 "nbformat_minor": 5
}
